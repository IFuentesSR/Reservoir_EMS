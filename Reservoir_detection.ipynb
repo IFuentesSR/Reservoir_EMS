{
  "nbformat": 4,
  "nbformat_minor": 0,
  "metadata": {
    "colab": {
      "name": "Reservoir detection.ipynb",
      "provenance": [],
      "include_colab_link": true
    },
    "kernelspec": {
      "name": "python3",
      "display_name": "Python 3"
    }
  },
  "cells": [
    {
      "cell_type": "markdown",
      "metadata": {
        "id": "view-in-github",
        "colab_type": "text"
      },
      "source": [
        "<a href=\"https://colab.research.google.com/github/IFuentesSR/Reservoir_EMS/blob/main/Reservoir_detection.ipynb\" target=\"_parent\"><img src=\"https://colab.research.google.com/assets/colab-badge.svg\" alt=\"Open In Colab\"/></a>"
      ]
    },
    {
      "cell_type": "markdown",
      "metadata": {
        "id": "7bNtJlGumkVG"
      },
      "source": [
        "## Import Google Earth Engine Library and authenticate"
      ]
    },
    {
      "cell_type": "code",
      "metadata": {
        "id": "ofBTbtqQmXGN",
        "colab": {
          "base_uri": "https://localhost:8080/"
        },
        "outputId": "91e1af27-afbb-4d6a-b9c9-072b2f1cf028"
      },
      "source": [
        "# Import, authenticate and initialize the Earth Engine library.\n",
        "import ee\n",
        "ee.Authenticate()\n",
        "ee.Initialize()"
      ],
      "execution_count": 1,
      "outputs": [
        {
          "output_type": "stream",
          "text": [
            "To authorize access needed by Earth Engine, open the following URL in a web browser and follow the instructions. If the web browser does not start automatically, please manually browse the URL below.\n",
            "\n",
            "    https://accounts.google.com/o/oauth2/auth?client_id=517222506229-vsmmajv00ul0bs7p89v5m89qs8eb9359.apps.googleusercontent.com&scope=https%3A%2F%2Fwww.googleapis.com%2Fauth%2Fearthengine+https%3A%2F%2Fwww.googleapis.com%2Fauth%2Fdevstorage.full_control&redirect_uri=urn%3Aietf%3Awg%3Aoauth%3A2.0%3Aoob&response_type=code&code_challenge=ZwdNK2ZJUKayBSMjS-qRb7jfjIi70rI56Aj7WvvgaSY&code_challenge_method=S256\n",
            "\n",
            "The authorization workflow will generate a code, which you should paste in the box below. \n",
            "Enter verification code: 4/1AY0e-g5hIS8AmCmDJ-5YgLxbDI0XwXzXnsTpI_lYSyKW47Erukp-OeIMHEQ\n",
            "\n",
            "Successfully saved authorization token.\n"
          ],
          "name": "stdout"
        }
      ]
    },
    {
      "cell_type": "markdown",
      "metadata": {
        "id": "WpgmDMAsnp6f"
      },
      "source": [
        "## Importing folium and other required libraries"
      ]
    },
    {
      "cell_type": "code",
      "metadata": {
        "id": "JOj1L43WnZj_",
        "colab": {
          "base_uri": "https://localhost:8080/"
        },
        "outputId": "5c59d662-0ead-49ad-827f-58cc68bc2ca2"
      },
      "source": [
        "import folium\n",
        "import time\n",
        "\n",
        "\n",
        "print(folium.__version__)"
      ],
      "execution_count": 2,
      "outputs": [
        {
          "output_type": "stream",
          "text": [
            "0.8.3\n"
          ],
          "name": "stdout"
        }
      ]
    },
    {
      "cell_type": "markdown",
      "metadata": {
        "id": "M97tecUyoBRA"
      },
      "source": [
        "## Defining some pre-processing function"
      ]
    },
    {
      "cell_type": "code",
      "metadata": {
        "id": "ZLf00JKRn9Kn"
      },
      "source": [
        "def generateGrid(xmin, ymin, xmax, ymax, dx, dy, marginx, marginy):\n",
        "  xx = ee.List.sequence(xmin, ee.Number(xmax).subtract(ee.Number(dx).multiply(0.9)), dx)\n",
        "  yy = ee.List.sequence(ymin, ee.Number(ymax).subtract(ee.Number(dy).multiply(0.9)), dy)\n",
        "  \n",
        "  def innerX(x):\n",
        "    def innerY(y):\n",
        "      x1 = ee.Number(x).subtract(marginx)\n",
        "      x2 = ee.Number(x).add(ee.Number(dx)).add(marginx)\n",
        "      y1 = ee.Number(y).subtract(marginy)\n",
        "      y2 = ee.Number(y).add(ee.Number(dy)).add(marginy)\n",
        "      coords = ee.List([x1, y1, x2, y2])\n",
        "      rect = ee.Algorithms.GeometryConstructors.Rectangle(coords, 'EPSG:4326', False)\n",
        "      return ee.Feature(rect)\n",
        "    return yy.map(innerY)\n",
        "  cells = xx.map(innerX).flatten()\n",
        "\n",
        "  return ee.FeatureCollection(cells)\n",
        "\n",
        "\n",
        "def parse_id(fea):\n",
        "  return fea.set('id', ee.Number.parse(fea.id()))\n",
        "\n",
        "\n",
        "def CloudMaskS2(image):\n",
        "   prop = image.propertyNames()\n",
        "   QA = image.select('SCL')\n",
        "   clouds = 9\n",
        "   cirrus = 8\n",
        "   thin_cirrus = 10\n",
        "   shadows = 3\n",
        "   mask = QA.neq(clouds).And(QA.neq(shadows)).And(QA.neq(thin_cirrus)) # .And(QA.neq(cirrus))\n",
        "   return image.updateMask(mask).multiply(0.0001).copyProperties(image, prop)\n",
        "\n",
        "\n",
        "# https://www.sciencedirect.com/science/article/pii/S0034425715302753?via%3Dihub\n",
        "def WI(img):\n",
        "  return img.expression('1.7204 + 171 * Green + 3 * Red - 70 * NIR - 45 * SWIR1 - 71 * SWIR2',\n",
        "  {'Green':img.select('B3'),'Red':img.select('B4'), \n",
        "  'NIR':img.select('B8'),'SWIR1':img.select('B11'),\n",
        "  'SWIR2':img.select('B12')}).rename('WI').copyProperties(img, ['system:time_start'])\n",
        "\n",
        "\n",
        "def hillShadow(img):\n",
        "  hs = ee.Terrain.hillShadow(srtm,\n",
        "                             img.get('MEAN_SOLAR_AZIMUTH_ANGLE'),\n",
        "                             img.get('MEAN_SOLAR_ZENITH_ANGLE'),\n",
        "                             100,\n",
        "                             True)\n",
        "  return img.updateMask(hs)\n",
        "\n",
        "\n",
        "def water_mask(img):\n",
        "  return img.gt(0).copyProperties(img, ['system:time_start'])\n",
        "\n",
        "\n",
        "def pixel_mask(img):\n",
        "  return img.gte(0)\n",
        "\n",
        "\n",
        "def getData(i):\n",
        "  return i.setMulti({'area': i.geometry().area(1),\n",
        "                     'peri': i.geometry().perimeter(1),\n",
        "                     'ratio': ee.Number(i.geometry().area(1)).divide(i.geometry().perimeter(1))\n",
        "  })\n",
        "\n",
        "\n",
        "  \n"
      ],
      "execution_count": 3,
      "outputs": []
    },
    {
      "cell_type": "markdown",
      "metadata": {
        "id": "JtetmnNuLEdt"
      },
      "source": [
        "## Calling datasets to use in a first instance"
      ]
    },
    {
      "cell_type": "code",
      "metadata": {
        "id": "3I7dONXhUDtp"
      },
      "source": [
        "Namoi = ee.FeatureCollection('users/ignisfausto/Namoi')\n",
        "\n",
        "grid = generateGrid(147.2, -32, 151.80, -29.7, 1.5, 1.2, 0, 0)\n",
        "grid = grid.map(parse_id)\n",
        "grid = grid.filterBounds(Namoi)\n",
        "\n",
        "hands100 = ee.ImageCollection('users/gena/global-hand/hand-100')\n",
        "hands100 = hands100.mosaic()\n",
        "\n",
        "SR = ee.ImageCollection(\"COPERNICUS/S2_SR\")\n",
        "srtm = ee.Image(\"USGS/SRTMGL1_003\")\n",
        "river = ee.FeatureCollection('users/ignisfausto/MajorHydro')\n",
        "major = ee.FeatureCollection('users/ignisfausto/NamoiReservoirs')\n",
        "\n",
        "LC = ee.ImageCollection(\"MODIS/006/MCD12Q1\")\n",
        "LC = LC.select('LC_Type1').filterDate('2018-01-01', '2020-01-01').first()\n"
      ],
      "execution_count": 4,
      "outputs": []
    },
    {
      "cell_type": "markdown",
      "metadata": {
        "id": "8meRtTRPLjDh"
      },
      "source": [
        "## Mapping the catchment and the grid cells for data exportation.\n",
        "\n",
        "The grid is used because running the vectorization of water bodies for the entire catchment results in memory and computation time out errors"
      ]
    },
    {
      "cell_type": "code",
      "metadata": {
        "id": "juBagjx3La46",
        "colab": {
          "base_uri": "https://localhost:8080/",
          "height": 866
        },
        "outputId": "ca98c404-5c28-487a-92fb-09e4df273d42"
      },
      "source": [
        "mapid = ee.FeatureCollection(grid).getMapId({'opacity':0.1})\n",
        "mapid2 = Namoi.getMapId()\n",
        "map = folium.Map(location=[-30.63, 149.91], zoom_start=8)\n",
        "folium.TileLayer(\n",
        "    tiles = 'https://server.arcgisonline.com/ArcGIS/rest/services/World_Imagery/MapServer/tile/{z}/{y}/{x}',\n",
        "    attr='Map Data &copy; <a href=\"https://earthengine.google.com/\">Google Earth Engine</a>',\n",
        "    overlay=True,\n",
        "    name='satellite',\n",
        "  ).add_to(map)\n",
        "folium.TileLayer(\n",
        "    tiles=mapid['tile_fetcher'].url_format,\n",
        "    attr='Map Data &copy; <a href=\"https://earthengine.google.com/\">Google Earth Engine</a>',\n",
        "    overlay=True,\n",
        "    name='grid',\n",
        "  ).add_to(map)\n",
        "folium.TileLayer(\n",
        "    tiles=mapid2['tile_fetcher'].url_format,\n",
        "    attr='Map Data &copy; <a href=\"https://earthengine.google.com/\">Google Earth Engine</a>',\n",
        "    overlay=True,\n",
        "    name='Namoi',\n",
        "  ).add_to(map)\n",
        "map.add_child(folium.LayerControl())\n",
        "map"
      ],
      "execution_count": 5,
      "outputs": [
        {
          "output_type": "execute_result",
          "data": {
            "text/html": [
              "<div style=\"width:100%;\"><div style=\"position:relative;width:100%;height:0;padding-bottom:60%;\"><span style=\"color:#565656\">Make this Notebook Trusted to load map: File -> Trust Notebook</span><iframe src=\"about:blank\" style=\"position:absolute;width:100%;height:100%;left:0;top:0;border:none !important;\" data-html=%3C%21DOCTYPE%20html%3E%0A%3Chead%3E%20%20%20%20%0A%20%20%20%20%3Cmeta%20http-equiv%3D%22content-type%22%20content%3D%22text/html%3B%20charset%3DUTF-8%22%20/%3E%0A%20%20%20%20%3Cscript%3EL_PREFER_CANVAS%3Dfalse%3B%20L_NO_TOUCH%3Dfalse%3B%20L_DISABLE_3D%3Dfalse%3B%3C/script%3E%0A%20%20%20%20%3Cscript%20src%3D%22https%3A//cdn.jsdelivr.net/npm/leaflet%401.4.0/dist/leaflet.js%22%3E%3C/script%3E%0A%20%20%20%20%3Cscript%20src%3D%22https%3A//code.jquery.com/jquery-1.12.4.min.js%22%3E%3C/script%3E%0A%20%20%20%20%3Cscript%20src%3D%22https%3A//maxcdn.bootstrapcdn.com/bootstrap/3.2.0/js/bootstrap.min.js%22%3E%3C/script%3E%0A%20%20%20%20%3Cscript%20src%3D%22https%3A//cdnjs.cloudflare.com/ajax/libs/Leaflet.awesome-markers/2.0.2/leaflet.awesome-markers.js%22%3E%3C/script%3E%0A%20%20%20%20%3Clink%20rel%3D%22stylesheet%22%20href%3D%22https%3A//cdn.jsdelivr.net/npm/leaflet%401.4.0/dist/leaflet.css%22/%3E%0A%20%20%20%20%3Clink%20rel%3D%22stylesheet%22%20href%3D%22https%3A//maxcdn.bootstrapcdn.com/bootstrap/3.2.0/css/bootstrap.min.css%22/%3E%0A%20%20%20%20%3Clink%20rel%3D%22stylesheet%22%20href%3D%22https%3A//maxcdn.bootstrapcdn.com/bootstrap/3.2.0/css/bootstrap-theme.min.css%22/%3E%0A%20%20%20%20%3Clink%20rel%3D%22stylesheet%22%20href%3D%22https%3A//maxcdn.bootstrapcdn.com/font-awesome/4.6.3/css/font-awesome.min.css%22/%3E%0A%20%20%20%20%3Clink%20rel%3D%22stylesheet%22%20href%3D%22https%3A//cdnjs.cloudflare.com/ajax/libs/Leaflet.awesome-markers/2.0.2/leaflet.awesome-markers.css%22/%3E%0A%20%20%20%20%3Clink%20rel%3D%22stylesheet%22%20href%3D%22https%3A//rawcdn.githack.com/python-visualization/folium/master/folium/templates/leaflet.awesome.rotate.css%22/%3E%0A%20%20%20%20%3Cstyle%3Ehtml%2C%20body%20%7Bwidth%3A%20100%25%3Bheight%3A%20100%25%3Bmargin%3A%200%3Bpadding%3A%200%3B%7D%3C/style%3E%0A%20%20%20%20%3Cstyle%3E%23map%20%7Bposition%3Aabsolute%3Btop%3A0%3Bbottom%3A0%3Bright%3A0%3Bleft%3A0%3B%7D%3C/style%3E%0A%20%20%20%20%0A%20%20%20%20%3Cmeta%20name%3D%22viewport%22%20content%3D%22width%3Ddevice-width%2C%0A%20%20%20%20%20%20%20%20initial-scale%3D1.0%2C%20maximum-scale%3D1.0%2C%20user-scalable%3Dno%22%20/%3E%0A%20%20%20%20%3Cstyle%3E%23map_3fb0353b65b544c7b78c4f177902765e%20%7B%0A%20%20%20%20%20%20%20%20position%3A%20relative%3B%0A%20%20%20%20%20%20%20%20width%3A%20100.0%25%3B%0A%20%20%20%20%20%20%20%20height%3A%20100.0%25%3B%0A%20%20%20%20%20%20%20%20left%3A%200.0%25%3B%0A%20%20%20%20%20%20%20%20top%3A%200.0%25%3B%0A%20%20%20%20%20%20%20%20%7D%0A%20%20%20%20%3C/style%3E%0A%3C/head%3E%0A%3Cbody%3E%20%20%20%20%0A%20%20%20%20%0A%20%20%20%20%3Cdiv%20class%3D%22folium-map%22%20id%3D%22map_3fb0353b65b544c7b78c4f177902765e%22%20%3E%3C/div%3E%0A%3C/body%3E%0A%3Cscript%3E%20%20%20%20%0A%20%20%20%20%0A%20%20%20%20%0A%20%20%20%20%20%20%20%20var%20bounds%20%3D%20null%3B%0A%20%20%20%20%0A%0A%20%20%20%20var%20map_3fb0353b65b544c7b78c4f177902765e%20%3D%20L.map%28%0A%20%20%20%20%20%20%20%20%27map_3fb0353b65b544c7b78c4f177902765e%27%2C%20%7B%0A%20%20%20%20%20%20%20%20center%3A%20%5B-30.63%2C%20149.91%5D%2C%0A%20%20%20%20%20%20%20%20zoom%3A%208%2C%0A%20%20%20%20%20%20%20%20maxBounds%3A%20bounds%2C%0A%20%20%20%20%20%20%20%20layers%3A%20%5B%5D%2C%0A%20%20%20%20%20%20%20%20worldCopyJump%3A%20false%2C%0A%20%20%20%20%20%20%20%20crs%3A%20L.CRS.EPSG3857%2C%0A%20%20%20%20%20%20%20%20zoomControl%3A%20true%2C%0A%20%20%20%20%20%20%20%20%7D%29%3B%0A%0A%0A%20%20%20%20%0A%20%20%20%20var%20tile_layer_78463da02544490ca90d50627783ce13%20%3D%20L.tileLayer%28%0A%20%20%20%20%20%20%20%20%27https%3A//%7Bs%7D.tile.openstreetmap.org/%7Bz%7D/%7Bx%7D/%7By%7D.png%27%2C%0A%20%20%20%20%20%20%20%20%7B%0A%20%20%20%20%20%20%20%20%22attribution%22%3A%20null%2C%0A%20%20%20%20%20%20%20%20%22detectRetina%22%3A%20false%2C%0A%20%20%20%20%20%20%20%20%22maxNativeZoom%22%3A%2018%2C%0A%20%20%20%20%20%20%20%20%22maxZoom%22%3A%2018%2C%0A%20%20%20%20%20%20%20%20%22minZoom%22%3A%200%2C%0A%20%20%20%20%20%20%20%20%22noWrap%22%3A%20false%2C%0A%20%20%20%20%20%20%20%20%22opacity%22%3A%201%2C%0A%20%20%20%20%20%20%20%20%22subdomains%22%3A%20%22abc%22%2C%0A%20%20%20%20%20%20%20%20%22tms%22%3A%20false%0A%7D%29.addTo%28map_3fb0353b65b544c7b78c4f177902765e%29%3B%0A%20%20%20%20var%20tile_layer_851026b2222341448f5034c934b39cfa%20%3D%20L.tileLayer%28%0A%20%20%20%20%20%20%20%20%27https%3A//server.arcgisonline.com/ArcGIS/rest/services/World_Imagery/MapServer/tile/%7Bz%7D/%7By%7D/%7Bx%7D%27%2C%0A%20%20%20%20%20%20%20%20%7B%0A%20%20%20%20%20%20%20%20%22attribution%22%3A%20%22Map%20Data%20%26copy%3B%20%3Ca%20href%3D%5C%22https%3A//earthengine.google.com/%5C%22%3EGoogle%20Earth%20Engine%3C/a%3E%22%2C%0A%20%20%20%20%20%20%20%20%22detectRetina%22%3A%20false%2C%0A%20%20%20%20%20%20%20%20%22maxNativeZoom%22%3A%2018%2C%0A%20%20%20%20%20%20%20%20%22maxZoom%22%3A%2018%2C%0A%20%20%20%20%20%20%20%20%22minZoom%22%3A%200%2C%0A%20%20%20%20%20%20%20%20%22noWrap%22%3A%20false%2C%0A%20%20%20%20%20%20%20%20%22opacity%22%3A%201%2C%0A%20%20%20%20%20%20%20%20%22subdomains%22%3A%20%22abc%22%2C%0A%20%20%20%20%20%20%20%20%22tms%22%3A%20false%0A%7D%29.addTo%28map_3fb0353b65b544c7b78c4f177902765e%29%3B%0A%20%20%20%20var%20tile_layer_e68a0a440a4d46c091de354b41220486%20%3D%20L.tileLayer%28%0A%20%20%20%20%20%20%20%20%27https%3A//earthengine.googleapis.com/v1alpha/projects/earthengine-legacy/maps/0534bc9d13425841cf720ecdc335fcfc-3de34c60fc069697ad48edcd7d3e7ab3/tiles/%7Bz%7D/%7Bx%7D/%7By%7D%27%2C%0A%20%20%20%20%20%20%20%20%7B%0A%20%20%20%20%20%20%20%20%22attribution%22%3A%20%22Map%20Data%20%26copy%3B%20%3Ca%20href%3D%5C%22https%3A//earthengine.google.com/%5C%22%3EGoogle%20Earth%20Engine%3C/a%3E%22%2C%0A%20%20%20%20%20%20%20%20%22detectRetina%22%3A%20false%2C%0A%20%20%20%20%20%20%20%20%22maxNativeZoom%22%3A%2018%2C%0A%20%20%20%20%20%20%20%20%22maxZoom%22%3A%2018%2C%0A%20%20%20%20%20%20%20%20%22minZoom%22%3A%200%2C%0A%20%20%20%20%20%20%20%20%22noWrap%22%3A%20false%2C%0A%20%20%20%20%20%20%20%20%22opacity%22%3A%201%2C%0A%20%20%20%20%20%20%20%20%22subdomains%22%3A%20%22abc%22%2C%0A%20%20%20%20%20%20%20%20%22tms%22%3A%20false%0A%7D%29.addTo%28map_3fb0353b65b544c7b78c4f177902765e%29%3B%0A%20%20%20%20var%20tile_layer_7527b0be85f246baadcfc1bf85374305%20%3D%20L.tileLayer%28%0A%20%20%20%20%20%20%20%20%27https%3A//earthengine.googleapis.com/v1alpha/projects/earthengine-legacy/maps/c5d259c2dfa4d5650c9b66a3f42e1ebe-fda8ac82ee686724e874da48d38760d1/tiles/%7Bz%7D/%7Bx%7D/%7By%7D%27%2C%0A%20%20%20%20%20%20%20%20%7B%0A%20%20%20%20%20%20%20%20%22attribution%22%3A%20%22Map%20Data%20%26copy%3B%20%3Ca%20href%3D%5C%22https%3A//earthengine.google.com/%5C%22%3EGoogle%20Earth%20Engine%3C/a%3E%22%2C%0A%20%20%20%20%20%20%20%20%22detectRetina%22%3A%20false%2C%0A%20%20%20%20%20%20%20%20%22maxNativeZoom%22%3A%2018%2C%0A%20%20%20%20%20%20%20%20%22maxZoom%22%3A%2018%2C%0A%20%20%20%20%20%20%20%20%22minZoom%22%3A%200%2C%0A%20%20%20%20%20%20%20%20%22noWrap%22%3A%20false%2C%0A%20%20%20%20%20%20%20%20%22opacity%22%3A%201%2C%0A%20%20%20%20%20%20%20%20%22subdomains%22%3A%20%22abc%22%2C%0A%20%20%20%20%20%20%20%20%22tms%22%3A%20false%0A%7D%29.addTo%28map_3fb0353b65b544c7b78c4f177902765e%29%3B%0A%20%20%20%20%0A%20%20%20%20%20%20%20%20%20%20%20%20var%20layer_control_a14a64a299244584b81fb6205c439a04%20%3D%20%7B%0A%20%20%20%20%20%20%20%20%20%20%20%20%20%20%20%20base_layers%20%3A%20%7B%20%22openstreetmap%22%20%3A%20tile_layer_78463da02544490ca90d50627783ce13%2C%20%7D%2C%0A%20%20%20%20%20%20%20%20%20%20%20%20%20%20%20%20overlays%20%3A%20%7B%20%22satellite%22%20%3A%20tile_layer_851026b2222341448f5034c934b39cfa%2C%22grid%22%20%3A%20tile_layer_e68a0a440a4d46c091de354b41220486%2C%22Namoi%22%20%3A%20tile_layer_7527b0be85f246baadcfc1bf85374305%2C%20%7D%0A%20%20%20%20%20%20%20%20%20%20%20%20%20%20%20%20%7D%3B%0A%20%20%20%20%20%20%20%20%20%20%20%20L.control.layers%28%0A%20%20%20%20%20%20%20%20%20%20%20%20%20%20%20%20layer_control_a14a64a299244584b81fb6205c439a04.base_layers%2C%0A%20%20%20%20%20%20%20%20%20%20%20%20%20%20%20%20layer_control_a14a64a299244584b81fb6205c439a04.overlays%2C%0A%20%20%20%20%20%20%20%20%20%20%20%20%20%20%20%20%7Bposition%3A%20%27topright%27%2C%0A%20%20%20%20%20%20%20%20%20%20%20%20%20%20%20%20%20collapsed%3A%20true%2C%0A%20%20%20%20%20%20%20%20%20%20%20%20%20%20%20%20%20autoZIndex%3A%20true%0A%20%20%20%20%20%20%20%20%20%20%20%20%20%20%20%20%7D%29.addTo%28map_3fb0353b65b544c7b78c4f177902765e%29%3B%0A%20%20%20%20%20%20%20%20%20%20%20%20%0A%20%20%20%20%20%20%20%20%0A%3C/script%3E onload=\"this.contentDocument.open();this.contentDocument.write(    decodeURIComponent(this.getAttribute('data-html')));this.contentDocument.close();\" allowfullscreen webkitallowfullscreen mozallowfullscreen></iframe></div></div>"
            ],
            "text/plain": [
              "<folium.folium.Map at 0x7f2936bfb1d0>"
            ]
          },
          "metadata": {
            "tags": []
          },
          "execution_count": 5
        }
      ]
    },
    {
      "cell_type": "markdown",
      "metadata": {
        "id": "ctiNchIYrMr_"
      },
      "source": [
        "## Definition of parameters for water detection\n",
        "Selection of start and end date to filter the image collection, and preprocessing of images to conver them into a water mask collection"
      ]
    },
    {
      "cell_type": "code",
      "metadata": {
        "id": "eE07mMGeUMb2"
      },
      "source": [
        "start = '2019-01-01'\n",
        "end = '2020-01-01'\n",
        "\n",
        "ids = grid.aggregate_array('id')\n",
        "ids = ids.getInfo()\n",
        "\n",
        "# SRfiltered = SR.filterBounds(Namoi).filterDate(start, end).filter(ee.Filter.lt('CLOUDY_PIXEL_PERCENTAGE', 10))\n",
        "# SRfiltered = SRfiltered\n",
        "# SRfiltered = SRfiltered.map(CloudMaskS2)#.map(hillShadow)\n",
        "# waterSR = SRfiltered.map(WI).map(water_mask)\n"
      ],
      "execution_count": 6,
      "outputs": []
    },
    {
      "cell_type": "code",
      "metadata": {
        "id": "t4BM01hyINvS",
        "colab": {
          "base_uri": "https://localhost:8080/"
        },
        "outputId": "64e5d20c-ae20-4b74-f8b3-36c8b82c7e94"
      },
      "source": [
        "print(SR.filterBounds(Namoi).filterDate(start, end).size().getInfo())\n",
        "print(SR.filterBounds(Namoi).filterDate(start, end).filter(ee.Filter.lt('CLOUDY_PIXEL_PERCENTAGE', 10)).size().getInfo())"
      ],
      "execution_count": 7,
      "outputs": [
        {
          "output_type": "stream",
          "text": [
            "1514\n",
            "935\n"
          ],
          "name": "stdout"
        }
      ]
    },
    {
      "cell_type": "markdown",
      "metadata": {
        "id": "ztXrqZhP_hrd"
      },
      "source": [
        "## **Alternatively**\n",
        "\n",
        "if more images are needed, since we are filtering the Sentinel 2 SR collection to get only the images with less than 5% clouds, the probability of clouds for sentinel 2 images dataset can be merged into the SR dataset.\n",
        "\n",
        "This will lead to some misclassification errors (due to shadows or remanent clouds), but their occurrence is limited, so by setting the occurrence probability to a threshold higher than 0.1 we make sure that we are picking up only surface water and not misclassifier water.\n",
        "\n",
        "The code below is used **only** if more images are needed and replaces the SR variable, otherwise skip this cell."
      ]
    },
    {
      "cell_type": "code",
      "metadata": {
        "id": "HpeDKFVh_gpr"
      },
      "source": [
        "def getS2_SR_CLOUD_PROBABILITY():\n",
        "  def mergeImageBands(joinResult):\n",
        "    return ee.Image(joinResult.get('primary')).addBands(joinResult.get('secondary'))\n",
        "  innerJoined = ee.Join.inner().apply(primary=ee.ImageCollection(\"COPERNICUS/S2_SR\"),\n",
        "                                    secondary=ee.ImageCollection(\"COPERNICUS/S2_CLOUD_PROBABILITY\"),\n",
        "                                    condition=ee.Filter.equals(leftField='system:index',\n",
        "                                                               rightField='system:index'))\n",
        "\n",
        "  newCollection = innerJoined.map(mergeImageBands);\n",
        "  return ee.ImageCollection(newCollection)\n",
        "\n",
        "\n",
        "def maskClouds(img):\n",
        "  cloudProbabilityThreshold = 30\n",
        "  cloudMask = img.select('probability').lt(cloudProbabilityThreshold)\n",
        "  return img.updateMask(cloudMask)\n",
        "\n",
        "\n",
        "def shadowMask(img):\n",
        "   QA = img.select('SCL')\n",
        "   shadows = 3\n",
        "   mask = QA.neq(shadows)\n",
        "   return img.updateMask(mask).multiply(0.0001)\n",
        "\n",
        "\n",
        "SR = getS2_SR_CLOUD_PROBABILITY()\n",
        "SRfiltered = SR.filterBounds(Namoi).filter(ee.Filter.lt('CLOUDY_PIXEL_PERCENTAGE', 10))\n",
        "SRfiltered = SRfiltered.filterDate(start, end)\n",
        "SRfiltered = SRfiltered.map(maskClouds).map(shadowMask)\n",
        "waterSR = SRfiltered.map(WI).map(water_mask)"
      ],
      "execution_count": 8,
      "outputs": []
    },
    {
      "cell_type": "markdown",
      "metadata": {
        "id": "IDqqHAq7T6N9"
      },
      "source": [
        "## Water Occurrence Probability\n",
        "\n",
        "Water occurrence probability was calculated as:\n",
        "\n",
        "$P_{(i, j)} = \\frac{1}{n} \\sum_{i=1}^{n}W_{(i, j)}$\n",
        "\n",
        "where $P_{(i, j)}$ is the probability of water occurrence at the pixel coordintes $i, j$, n is the times every pixel takes place in the collection and $W_{(i, j)}$ is the times that water is found in the pixel of coordinates $i, j$.\n",
        "\n",
        "Additionally, hand values over 50 where assumed as not being flooded.\n"
      ]
    },
    {
      "cell_type": "code",
      "metadata": {
        "id": "ghDD6FPHT2PJ"
      },
      "source": [
        "pixels = ee.Image(waterSR.map(pixel_mask).sum())\n",
        "waterOccurrence = waterSR.sum().divide(waterSR.map(pixel_mask).sum()).clip(Namoi)\n",
        "waterOccurrence = waterOccurrence.where(hands100.gt(50), 0)\n",
        "waterOccurrence1 = waterOccurrence.gt(0.2)\n",
        "WO = waterOccurrence1.updateMask(waterOccurrence1).addBands(waterOccurrence)\n"
      ],
      "execution_count": 9,
      "outputs": []
    },
    {
      "cell_type": "markdown",
      "metadata": {
        "id": "PatdzsqCkfYP"
      },
      "source": [
        "## Mapping water occurrence in the catchment"
      ]
    },
    {
      "cell_type": "code",
      "metadata": {
        "id": "x98lG7rUbACh",
        "colab": {
          "base_uri": "https://localhost:8080/",
          "height": 866
        },
        "outputId": "e56769c4-1b42-4915-943f-8eca655092ea"
      },
      "source": [
        "# waterOccurrence = waterOccurrence.selfMask()\n",
        "mapidOcc = waterOccurrence.getMapId({'min': 0, 'max': 1, 'palette':'FFFFFF, 87CEFA, 00BFFF, 1E90FF, 4169E1, 00008B'})\n",
        "mapidCount = pixels.getMapId({'min': 20, 'max': 60, 'palette': 'FF0000, 00FF00', 'opacity':0.7})\n",
        "mapidLC = LC.clip(Namoi).getMapId({'min':1, 'max':17, 'palette': [\n",
        "    '05450a', '086a10', '54a708', '78d203', '009900', 'c6b044', 'dcd159',\n",
        "    'dade48', 'fbff13', 'b6ff05', '27ff87', 'c24f44', 'a5a5a5', 'ff6d4c',\n",
        "    '69fff8', 'f9ffa4', '1c0dff'\n",
        "  ]})\n",
        "map = folium.Map(location=[-30.63, 149.91], zoom_start=9)\n",
        "folium.TileLayer(\n",
        "    tiles=mapid2['tile_fetcher'].url_format,\n",
        "    attr='Map Data &copy; <a href=\"https://earthengine.google.com/\">Google Earth Engine</a>',\n",
        "    overlay=True,\n",
        "    name='Namoi',\n",
        "  ).add_to(map)\n",
        "folium.TileLayer(\n",
        "    tiles=mapidLC['tile_fetcher'].url_format,\n",
        "    attr='Map Data &copy; <a href=\"https://earthengine.google.com/\">Google Earth Engine</a>',\n",
        "    overlay=True,\n",
        "    name='Land cover',\n",
        "  ).add_to(map)\n",
        "folium.TileLayer(\n",
        "    tiles=mapidCount['tile_fetcher'].url_format,\n",
        "    attr='Map Data &copy; <a href=\"https://earthengine.google.com/\">Google Earth Engine</a>',\n",
        "    overlay=True,\n",
        "    name='Times',\n",
        "  ).add_to(map)\n",
        "folium.TileLayer(\n",
        "    tiles=mapidOcc['tile_fetcher'].url_format,\n",
        "    attr='Map Data &copy; <a href=\"https://earthengine.google.com/\">Google Earth Engine</a>',\n",
        "    overlay=True,\n",
        "    name='Occurrence',\n",
        "  ).add_to(map)\n",
        "map.add_child(folium.LayerControl())\n",
        "map"
      ],
      "execution_count": 10,
      "outputs": [
        {
          "output_type": "execute_result",
          "data": {
            "text/html": [
              "<div style=\"width:100%;\"><div style=\"position:relative;width:100%;height:0;padding-bottom:60%;\"><span style=\"color:#565656\">Make this Notebook Trusted to load map: File -> Trust Notebook</span><iframe src=\"about:blank\" style=\"position:absolute;width:100%;height:100%;left:0;top:0;border:none !important;\" data-html=%3C%21DOCTYPE%20html%3E%0A%3Chead%3E%20%20%20%20%0A%20%20%20%20%3Cmeta%20http-equiv%3D%22content-type%22%20content%3D%22text/html%3B%20charset%3DUTF-8%22%20/%3E%0A%20%20%20%20%3Cscript%3EL_PREFER_CANVAS%3Dfalse%3B%20L_NO_TOUCH%3Dfalse%3B%20L_DISABLE_3D%3Dfalse%3B%3C/script%3E%0A%20%20%20%20%3Cscript%20src%3D%22https%3A//cdn.jsdelivr.net/npm/leaflet%401.4.0/dist/leaflet.js%22%3E%3C/script%3E%0A%20%20%20%20%3Cscript%20src%3D%22https%3A//code.jquery.com/jquery-1.12.4.min.js%22%3E%3C/script%3E%0A%20%20%20%20%3Cscript%20src%3D%22https%3A//maxcdn.bootstrapcdn.com/bootstrap/3.2.0/js/bootstrap.min.js%22%3E%3C/script%3E%0A%20%20%20%20%3Cscript%20src%3D%22https%3A//cdnjs.cloudflare.com/ajax/libs/Leaflet.awesome-markers/2.0.2/leaflet.awesome-markers.js%22%3E%3C/script%3E%0A%20%20%20%20%3Clink%20rel%3D%22stylesheet%22%20href%3D%22https%3A//cdn.jsdelivr.net/npm/leaflet%401.4.0/dist/leaflet.css%22/%3E%0A%20%20%20%20%3Clink%20rel%3D%22stylesheet%22%20href%3D%22https%3A//maxcdn.bootstrapcdn.com/bootstrap/3.2.0/css/bootstrap.min.css%22/%3E%0A%20%20%20%20%3Clink%20rel%3D%22stylesheet%22%20href%3D%22https%3A//maxcdn.bootstrapcdn.com/bootstrap/3.2.0/css/bootstrap-theme.min.css%22/%3E%0A%20%20%20%20%3Clink%20rel%3D%22stylesheet%22%20href%3D%22https%3A//maxcdn.bootstrapcdn.com/font-awesome/4.6.3/css/font-awesome.min.css%22/%3E%0A%20%20%20%20%3Clink%20rel%3D%22stylesheet%22%20href%3D%22https%3A//cdnjs.cloudflare.com/ajax/libs/Leaflet.awesome-markers/2.0.2/leaflet.awesome-markers.css%22/%3E%0A%20%20%20%20%3Clink%20rel%3D%22stylesheet%22%20href%3D%22https%3A//rawcdn.githack.com/python-visualization/folium/master/folium/templates/leaflet.awesome.rotate.css%22/%3E%0A%20%20%20%20%3Cstyle%3Ehtml%2C%20body%20%7Bwidth%3A%20100%25%3Bheight%3A%20100%25%3Bmargin%3A%200%3Bpadding%3A%200%3B%7D%3C/style%3E%0A%20%20%20%20%3Cstyle%3E%23map%20%7Bposition%3Aabsolute%3Btop%3A0%3Bbottom%3A0%3Bright%3A0%3Bleft%3A0%3B%7D%3C/style%3E%0A%20%20%20%20%0A%20%20%20%20%3Cmeta%20name%3D%22viewport%22%20content%3D%22width%3Ddevice-width%2C%0A%20%20%20%20%20%20%20%20initial-scale%3D1.0%2C%20maximum-scale%3D1.0%2C%20user-scalable%3Dno%22%20/%3E%0A%20%20%20%20%3Cstyle%3E%23map_27de204d404e499fb90c5d514507ebce%20%7B%0A%20%20%20%20%20%20%20%20position%3A%20relative%3B%0A%20%20%20%20%20%20%20%20width%3A%20100.0%25%3B%0A%20%20%20%20%20%20%20%20height%3A%20100.0%25%3B%0A%20%20%20%20%20%20%20%20left%3A%200.0%25%3B%0A%20%20%20%20%20%20%20%20top%3A%200.0%25%3B%0A%20%20%20%20%20%20%20%20%7D%0A%20%20%20%20%3C/style%3E%0A%3C/head%3E%0A%3Cbody%3E%20%20%20%20%0A%20%20%20%20%0A%20%20%20%20%3Cdiv%20class%3D%22folium-map%22%20id%3D%22map_27de204d404e499fb90c5d514507ebce%22%20%3E%3C/div%3E%0A%3C/body%3E%0A%3Cscript%3E%20%20%20%20%0A%20%20%20%20%0A%20%20%20%20%0A%20%20%20%20%20%20%20%20var%20bounds%20%3D%20null%3B%0A%20%20%20%20%0A%0A%20%20%20%20var%20map_27de204d404e499fb90c5d514507ebce%20%3D%20L.map%28%0A%20%20%20%20%20%20%20%20%27map_27de204d404e499fb90c5d514507ebce%27%2C%20%7B%0A%20%20%20%20%20%20%20%20center%3A%20%5B-30.63%2C%20149.91%5D%2C%0A%20%20%20%20%20%20%20%20zoom%3A%209%2C%0A%20%20%20%20%20%20%20%20maxBounds%3A%20bounds%2C%0A%20%20%20%20%20%20%20%20layers%3A%20%5B%5D%2C%0A%20%20%20%20%20%20%20%20worldCopyJump%3A%20false%2C%0A%20%20%20%20%20%20%20%20crs%3A%20L.CRS.EPSG3857%2C%0A%20%20%20%20%20%20%20%20zoomControl%3A%20true%2C%0A%20%20%20%20%20%20%20%20%7D%29%3B%0A%0A%0A%20%20%20%20%0A%20%20%20%20var%20tile_layer_f62e81881147425a94533ac31af5262b%20%3D%20L.tileLayer%28%0A%20%20%20%20%20%20%20%20%27https%3A//%7Bs%7D.tile.openstreetmap.org/%7Bz%7D/%7Bx%7D/%7By%7D.png%27%2C%0A%20%20%20%20%20%20%20%20%7B%0A%20%20%20%20%20%20%20%20%22attribution%22%3A%20null%2C%0A%20%20%20%20%20%20%20%20%22detectRetina%22%3A%20false%2C%0A%20%20%20%20%20%20%20%20%22maxNativeZoom%22%3A%2018%2C%0A%20%20%20%20%20%20%20%20%22maxZoom%22%3A%2018%2C%0A%20%20%20%20%20%20%20%20%22minZoom%22%3A%200%2C%0A%20%20%20%20%20%20%20%20%22noWrap%22%3A%20false%2C%0A%20%20%20%20%20%20%20%20%22opacity%22%3A%201%2C%0A%20%20%20%20%20%20%20%20%22subdomains%22%3A%20%22abc%22%2C%0A%20%20%20%20%20%20%20%20%22tms%22%3A%20false%0A%7D%29.addTo%28map_27de204d404e499fb90c5d514507ebce%29%3B%0A%20%20%20%20var%20tile_layer_92517a42dca64b508dadb5b3dfac3789%20%3D%20L.tileLayer%28%0A%20%20%20%20%20%20%20%20%27https%3A//earthengine.googleapis.com/v1alpha/projects/earthengine-legacy/maps/c5d259c2dfa4d5650c9b66a3f42e1ebe-fda8ac82ee686724e874da48d38760d1/tiles/%7Bz%7D/%7Bx%7D/%7By%7D%27%2C%0A%20%20%20%20%20%20%20%20%7B%0A%20%20%20%20%20%20%20%20%22attribution%22%3A%20%22Map%20Data%20%26copy%3B%20%3Ca%20href%3D%5C%22https%3A//earthengine.google.com/%5C%22%3EGoogle%20Earth%20Engine%3C/a%3E%22%2C%0A%20%20%20%20%20%20%20%20%22detectRetina%22%3A%20false%2C%0A%20%20%20%20%20%20%20%20%22maxNativeZoom%22%3A%2018%2C%0A%20%20%20%20%20%20%20%20%22maxZoom%22%3A%2018%2C%0A%20%20%20%20%20%20%20%20%22minZoom%22%3A%200%2C%0A%20%20%20%20%20%20%20%20%22noWrap%22%3A%20false%2C%0A%20%20%20%20%20%20%20%20%22opacity%22%3A%201%2C%0A%20%20%20%20%20%20%20%20%22subdomains%22%3A%20%22abc%22%2C%0A%20%20%20%20%20%20%20%20%22tms%22%3A%20false%0A%7D%29.addTo%28map_27de204d404e499fb90c5d514507ebce%29%3B%0A%20%20%20%20var%20tile_layer_6eb9e23073484905a12ad421e043d1aa%20%3D%20L.tileLayer%28%0A%20%20%20%20%20%20%20%20%27https%3A//earthengine.googleapis.com/v1alpha/projects/earthengine-legacy/maps/cc1dd9aa7bceb948b43c98f307392123-031a413a28d1471820ed02e0f928437f/tiles/%7Bz%7D/%7Bx%7D/%7By%7D%27%2C%0A%20%20%20%20%20%20%20%20%7B%0A%20%20%20%20%20%20%20%20%22attribution%22%3A%20%22Map%20Data%20%26copy%3B%20%3Ca%20href%3D%5C%22https%3A//earthengine.google.com/%5C%22%3EGoogle%20Earth%20Engine%3C/a%3E%22%2C%0A%20%20%20%20%20%20%20%20%22detectRetina%22%3A%20false%2C%0A%20%20%20%20%20%20%20%20%22maxNativeZoom%22%3A%2018%2C%0A%20%20%20%20%20%20%20%20%22maxZoom%22%3A%2018%2C%0A%20%20%20%20%20%20%20%20%22minZoom%22%3A%200%2C%0A%20%20%20%20%20%20%20%20%22noWrap%22%3A%20false%2C%0A%20%20%20%20%20%20%20%20%22opacity%22%3A%201%2C%0A%20%20%20%20%20%20%20%20%22subdomains%22%3A%20%22abc%22%2C%0A%20%20%20%20%20%20%20%20%22tms%22%3A%20false%0A%7D%29.addTo%28map_27de204d404e499fb90c5d514507ebce%29%3B%0A%20%20%20%20var%20tile_layer_85e1ea70bf81457395fe44e090ce1501%20%3D%20L.tileLayer%28%0A%20%20%20%20%20%20%20%20%27https%3A//earthengine.googleapis.com/v1alpha/projects/earthengine-legacy/maps/24ac942dc9b3896f06836c1cd2785384-b4a5053a165a7581f3b63a31e807a253/tiles/%7Bz%7D/%7Bx%7D/%7By%7D%27%2C%0A%20%20%20%20%20%20%20%20%7B%0A%20%20%20%20%20%20%20%20%22attribution%22%3A%20%22Map%20Data%20%26copy%3B%20%3Ca%20href%3D%5C%22https%3A//earthengine.google.com/%5C%22%3EGoogle%20Earth%20Engine%3C/a%3E%22%2C%0A%20%20%20%20%20%20%20%20%22detectRetina%22%3A%20false%2C%0A%20%20%20%20%20%20%20%20%22maxNativeZoom%22%3A%2018%2C%0A%20%20%20%20%20%20%20%20%22maxZoom%22%3A%2018%2C%0A%20%20%20%20%20%20%20%20%22minZoom%22%3A%200%2C%0A%20%20%20%20%20%20%20%20%22noWrap%22%3A%20false%2C%0A%20%20%20%20%20%20%20%20%22opacity%22%3A%201%2C%0A%20%20%20%20%20%20%20%20%22subdomains%22%3A%20%22abc%22%2C%0A%20%20%20%20%20%20%20%20%22tms%22%3A%20false%0A%7D%29.addTo%28map_27de204d404e499fb90c5d514507ebce%29%3B%0A%20%20%20%20var%20tile_layer_63161e70477f450fa419d11ad3f6a9af%20%3D%20L.tileLayer%28%0A%20%20%20%20%20%20%20%20%27https%3A//earthengine.googleapis.com/v1alpha/projects/earthengine-legacy/maps/1571b2f47f4a3b1d0ff87b0962003339-f5128150b4556f8bf4e5a38f21d14c8f/tiles/%7Bz%7D/%7Bx%7D/%7By%7D%27%2C%0A%20%20%20%20%20%20%20%20%7B%0A%20%20%20%20%20%20%20%20%22attribution%22%3A%20%22Map%20Data%20%26copy%3B%20%3Ca%20href%3D%5C%22https%3A//earthengine.google.com/%5C%22%3EGoogle%20Earth%20Engine%3C/a%3E%22%2C%0A%20%20%20%20%20%20%20%20%22detectRetina%22%3A%20false%2C%0A%20%20%20%20%20%20%20%20%22maxNativeZoom%22%3A%2018%2C%0A%20%20%20%20%20%20%20%20%22maxZoom%22%3A%2018%2C%0A%20%20%20%20%20%20%20%20%22minZoom%22%3A%200%2C%0A%20%20%20%20%20%20%20%20%22noWrap%22%3A%20false%2C%0A%20%20%20%20%20%20%20%20%22opacity%22%3A%201%2C%0A%20%20%20%20%20%20%20%20%22subdomains%22%3A%20%22abc%22%2C%0A%20%20%20%20%20%20%20%20%22tms%22%3A%20false%0A%7D%29.addTo%28map_27de204d404e499fb90c5d514507ebce%29%3B%0A%20%20%20%20%0A%20%20%20%20%20%20%20%20%20%20%20%20var%20layer_control_ced3ededda484bca820905bdebf51c9d%20%3D%20%7B%0A%20%20%20%20%20%20%20%20%20%20%20%20%20%20%20%20base_layers%20%3A%20%7B%20%22openstreetmap%22%20%3A%20tile_layer_f62e81881147425a94533ac31af5262b%2C%20%7D%2C%0A%20%20%20%20%20%20%20%20%20%20%20%20%20%20%20%20overlays%20%3A%20%7B%20%22Namoi%22%20%3A%20tile_layer_92517a42dca64b508dadb5b3dfac3789%2C%22Land%20cover%22%20%3A%20tile_layer_6eb9e23073484905a12ad421e043d1aa%2C%22Times%22%20%3A%20tile_layer_85e1ea70bf81457395fe44e090ce1501%2C%22Occurrence%22%20%3A%20tile_layer_63161e70477f450fa419d11ad3f6a9af%2C%20%7D%0A%20%20%20%20%20%20%20%20%20%20%20%20%20%20%20%20%7D%3B%0A%20%20%20%20%20%20%20%20%20%20%20%20L.control.layers%28%0A%20%20%20%20%20%20%20%20%20%20%20%20%20%20%20%20layer_control_ced3ededda484bca820905bdebf51c9d.base_layers%2C%0A%20%20%20%20%20%20%20%20%20%20%20%20%20%20%20%20layer_control_ced3ededda484bca820905bdebf51c9d.overlays%2C%0A%20%20%20%20%20%20%20%20%20%20%20%20%20%20%20%20%7Bposition%3A%20%27topright%27%2C%0A%20%20%20%20%20%20%20%20%20%20%20%20%20%20%20%20%20collapsed%3A%20true%2C%0A%20%20%20%20%20%20%20%20%20%20%20%20%20%20%20%20%20autoZIndex%3A%20true%0A%20%20%20%20%20%20%20%20%20%20%20%20%20%20%20%20%7D%29.addTo%28map_27de204d404e499fb90c5d514507ebce%29%3B%0A%20%20%20%20%20%20%20%20%20%20%20%20%0A%20%20%20%20%20%20%20%20%0A%3C/script%3E onload=\"this.contentDocument.open();this.contentDocument.write(    decodeURIComponent(this.getAttribute('data-html')));this.contentDocument.close();\" allowfullscreen webkitallowfullscreen mozallowfullscreen></iframe></div></div>"
            ],
            "text/plain": [
              "<folium.folium.Map at 0x7f2936dcd690>"
            ]
          },
          "metadata": {
            "tags": []
          },
          "execution_count": 10
        }
      ]
    },
    {
      "cell_type": "code",
      "metadata": {
        "id": "MmTIua9h6DCY"
      },
      "source": [
        "ee.batch.Export.image.toDrive(image=waterOccurrence,\n",
        "                              region=Namoi.geometry(),\n",
        "                              scale=10,\n",
        "                              description='Occurrence',\n",
        "                              maxPixels=1e13).start()"
      ],
      "execution_count": null,
      "outputs": []
    },
    {
      "cell_type": "markdown",
      "metadata": {
        "id": "UfV1_EwPq0nU"
      },
      "source": [
        "## Selection of barren areas\n",
        "Bare land areas were selected from the land cover map in order to filter reservoirs contaned in such areas, which most of the time are related to mining operations"
      ]
    },
    {
      "cell_type": "code",
      "metadata": {
        "id": "YjUyrpmVn2m5"
      },
      "source": [
        "barren = LC.eq(16)\n",
        "barren = barren.updateMask(barren).addBands(barren)\n",
        "barren = barren.reduceToVectors('first', Namoi, 500)"
      ],
      "execution_count": 11,
      "outputs": []
    },
    {
      "cell_type": "markdown",
      "metadata": {
        "id": "D0GkzSNnkniD"
      },
      "source": [
        "### water reservoirs were delineated assuming that these are present in at least 20% of the images (occurrence > 0.2).\n",
        "\n",
        "Vectorization was carried out in each cell of the grid due to constraints in the computational capacity.\n",
        "\n",
        "Reservoirs are exported for every cell in the grid.\n",
        "\n",
        "**Run this cell only** if you want to export reservoirs into your assets, **otherwise skip this cell** (it takes at least 50 minutes runing because in each step of the loop a 10' delayer is especified.\n",
        "\n"
      ]
    },
    {
      "cell_type": "code",
      "metadata": {
        "id": "g3507jOQTbI-"
      },
      "source": [
        "'''Just run this cell if you want to save the data in your assets''' \n",
        "\n",
        "### Replace here with your account path \n",
        "assetId = 'users/ignaciofuentessanroman/Reservoirs' \n",
        "for n in ids:\n",
        "  res = WO.reduceToVectors(reducer=ee.Reducer.mean(),\n",
        "                            geometry=grid.filter(ee.Filter.eq('id', n)).first().geometry(),\n",
        "                            scale=10,\n",
        "                            maxPixels=1e13)\n",
        "  task = ee.batch.Export.table.toAsset(collection=res,\n",
        "                                      description='exam1',\n",
        "                                      assetId='{}/reservoirsNamoi{}'.format(assetId,\n",
        "                                                                            n))\n",
        "  task.start()\n",
        "  time.sleep(10*60)"
      ],
      "execution_count": null,
      "outputs": []
    },
    {
      "cell_type": "markdown",
      "metadata": {
        "id": "tJxS5Ky1mTiJ"
      },
      "source": [
        "Otherwise, just use these (I have shared them). Water vectors were stored as assets in Reservoirs folder."
      ]
    },
    {
      "cell_type": "code",
      "metadata": {
        "id": "i044aOuUkeez"
      },
      "source": [
        "table = ee.FeatureCollection(\"users/ignaciofuentessanroman/Reservoirs/reservoirsNamoi1\")\n",
        "table2 = ee.FeatureCollection(\"users/ignaciofuentessanroman/Reservoirs/reservoirsNamoi2\")\n",
        "table3 = ee.FeatureCollection(\"users/ignaciofuentessanroman/Reservoirs/reservoirsNamoi3\")\n",
        "table4 = ee.FeatureCollection(\"users/ignaciofuentessanroman/Reservoirs/reservoirsNamoi4\")\n",
        "table5 = ee.FeatureCollection(\"users/ignaciofuentessanroman/Reservoirs/reservoirsNamoi5\")\n",
        "res = table.merge(table2).merge(table3).merge(table4).merge(table5)"
      ],
      "execution_count": 12,
      "outputs": []
    },
    {
      "cell_type": "markdown",
      "metadata": {
        "id": "GeGg2BkapqEi"
      },
      "source": [
        "## Filtering reservoirs\n",
        "\n",
        "Different conditions may be passed for the filtering and detection of water reservoirs.\n",
        "\n",
        "\n",
        "*   area > 10,000 m²\n",
        "*   ratio area-perimeter > 25\n",
        "*   area < 500,000 m²\n",
        "*   reservoirs not intersecting major rivers\n",
        "*   reservoirs not intersecting major reservoirs\n",
        "*   reservoirs not contained in barren areas (mines, some)\n",
        "*   reservors below 410 m\n",
        "\n"
      ]
    },
    {
      "cell_type": "code",
      "metadata": {
        "id": "U_ARWJjckQF7"
      },
      "source": [
        "res = res.map(getData)\n",
        "res = res.filter(ee.Filter.gt('area', 10000))\n",
        "res = res.filter(ee.Filter.gt('ratio', 25))\n",
        "res = res.filter(ee.Filter.lt('area', 500000))\n",
        "res = res.filter(ee.Filter.intersects('.geo', river.geometry()).Not())\n",
        "res = res.filter(ee.Filter.intersects('.geo', major.geometry()).Not())\n",
        "res = res.filter(ee.Filter.intersects('.geo', barren.geometry()).Not())\n",
        "res = srtm.reduceRegions(res, 'mean', 30)\n",
        "res = res.filter(ee.Filter.lt('mean', 410))"
      ],
      "execution_count": 13,
      "outputs": []
    },
    {
      "cell_type": "markdown",
      "metadata": {
        "id": "xAexfbBtqkUu"
      },
      "source": [
        "# Map of farm reservoirs\n",
        "\n",
        "Move around to see areas with reservoirs.\n",
        "You can turn off/on the satellite image and the reservoirs layers.\n",
        "Consider that the satellite image is not taken necesarily at the sam year than the detection, and that is a snapshot at the specific date, while the detection assumes a water occurrence greater than 0.2 in the collection."
      ]
    },
    {
      "cell_type": "code",
      "metadata": {
        "id": "IdevKq2DhPgt",
        "colab": {
          "base_uri": "https://localhost:8080/",
          "height": 866
        },
        "outputId": "b2fb6df1-b9fe-43c3-bd6b-e027de6d910e"
      },
      "source": [
        "mapidRes = ee.FeatureCollection(res).getMapId()\n",
        "map = folium.Map(location=[-30.2, 149.6], zoom_start=11)\n",
        "folium.TileLayer(\n",
        "    tiles = 'https://server.arcgisonline.com/ArcGIS/rest/services/World_Imagery/MapServer/tile/{z}/{y}/{x}',\n",
        "    attr='Map Data &copy; <a href=\"https://earthengine.google.com/\">Google Earth Engine</a>',\n",
        "    overlay=True,\n",
        "    name='satellite',\n",
        "  ).add_to(map)\n",
        "folium.TileLayer(\n",
        "    tiles=mapidRes['tile_fetcher'].url_format,\n",
        "    attr='Map Data &copy; <a href=\"https://earthengine.google.com/\">Google Earth Engine</a>',\n",
        "    overlay=True,\n",
        "    name='reservoirs',\n",
        "  ).add_to(map)\n",
        "map.add_child(folium.LayerControl())\n",
        "map"
      ],
      "execution_count": 14,
      "outputs": [
        {
          "output_type": "execute_result",
          "data": {
            "text/html": [
              "<div style=\"width:100%;\"><div style=\"position:relative;width:100%;height:0;padding-bottom:60%;\"><span style=\"color:#565656\">Make this Notebook Trusted to load map: File -> Trust Notebook</span><iframe src=\"about:blank\" style=\"position:absolute;width:100%;height:100%;left:0;top:0;border:none !important;\" data-html=%3C%21DOCTYPE%20html%3E%0A%3Chead%3E%20%20%20%20%0A%20%20%20%20%3Cmeta%20http-equiv%3D%22content-type%22%20content%3D%22text/html%3B%20charset%3DUTF-8%22%20/%3E%0A%20%20%20%20%3Cscript%3EL_PREFER_CANVAS%3Dfalse%3B%20L_NO_TOUCH%3Dfalse%3B%20L_DISABLE_3D%3Dfalse%3B%3C/script%3E%0A%20%20%20%20%3Cscript%20src%3D%22https%3A//cdn.jsdelivr.net/npm/leaflet%401.4.0/dist/leaflet.js%22%3E%3C/script%3E%0A%20%20%20%20%3Cscript%20src%3D%22https%3A//code.jquery.com/jquery-1.12.4.min.js%22%3E%3C/script%3E%0A%20%20%20%20%3Cscript%20src%3D%22https%3A//maxcdn.bootstrapcdn.com/bootstrap/3.2.0/js/bootstrap.min.js%22%3E%3C/script%3E%0A%20%20%20%20%3Cscript%20src%3D%22https%3A//cdnjs.cloudflare.com/ajax/libs/Leaflet.awesome-markers/2.0.2/leaflet.awesome-markers.js%22%3E%3C/script%3E%0A%20%20%20%20%3Clink%20rel%3D%22stylesheet%22%20href%3D%22https%3A//cdn.jsdelivr.net/npm/leaflet%401.4.0/dist/leaflet.css%22/%3E%0A%20%20%20%20%3Clink%20rel%3D%22stylesheet%22%20href%3D%22https%3A//maxcdn.bootstrapcdn.com/bootstrap/3.2.0/css/bootstrap.min.css%22/%3E%0A%20%20%20%20%3Clink%20rel%3D%22stylesheet%22%20href%3D%22https%3A//maxcdn.bootstrapcdn.com/bootstrap/3.2.0/css/bootstrap-theme.min.css%22/%3E%0A%20%20%20%20%3Clink%20rel%3D%22stylesheet%22%20href%3D%22https%3A//maxcdn.bootstrapcdn.com/font-awesome/4.6.3/css/font-awesome.min.css%22/%3E%0A%20%20%20%20%3Clink%20rel%3D%22stylesheet%22%20href%3D%22https%3A//cdnjs.cloudflare.com/ajax/libs/Leaflet.awesome-markers/2.0.2/leaflet.awesome-markers.css%22/%3E%0A%20%20%20%20%3Clink%20rel%3D%22stylesheet%22%20href%3D%22https%3A//rawcdn.githack.com/python-visualization/folium/master/folium/templates/leaflet.awesome.rotate.css%22/%3E%0A%20%20%20%20%3Cstyle%3Ehtml%2C%20body%20%7Bwidth%3A%20100%25%3Bheight%3A%20100%25%3Bmargin%3A%200%3Bpadding%3A%200%3B%7D%3C/style%3E%0A%20%20%20%20%3Cstyle%3E%23map%20%7Bposition%3Aabsolute%3Btop%3A0%3Bbottom%3A0%3Bright%3A0%3Bleft%3A0%3B%7D%3C/style%3E%0A%20%20%20%20%0A%20%20%20%20%3Cmeta%20name%3D%22viewport%22%20content%3D%22width%3Ddevice-width%2C%0A%20%20%20%20%20%20%20%20initial-scale%3D1.0%2C%20maximum-scale%3D1.0%2C%20user-scalable%3Dno%22%20/%3E%0A%20%20%20%20%3Cstyle%3E%23map_6e2e8b58af1248acba6f04ca1dc78d99%20%7B%0A%20%20%20%20%20%20%20%20position%3A%20relative%3B%0A%20%20%20%20%20%20%20%20width%3A%20100.0%25%3B%0A%20%20%20%20%20%20%20%20height%3A%20100.0%25%3B%0A%20%20%20%20%20%20%20%20left%3A%200.0%25%3B%0A%20%20%20%20%20%20%20%20top%3A%200.0%25%3B%0A%20%20%20%20%20%20%20%20%7D%0A%20%20%20%20%3C/style%3E%0A%3C/head%3E%0A%3Cbody%3E%20%20%20%20%0A%20%20%20%20%0A%20%20%20%20%3Cdiv%20class%3D%22folium-map%22%20id%3D%22map_6e2e8b58af1248acba6f04ca1dc78d99%22%20%3E%3C/div%3E%0A%3C/body%3E%0A%3Cscript%3E%20%20%20%20%0A%20%20%20%20%0A%20%20%20%20%0A%20%20%20%20%20%20%20%20var%20bounds%20%3D%20null%3B%0A%20%20%20%20%0A%0A%20%20%20%20var%20map_6e2e8b58af1248acba6f04ca1dc78d99%20%3D%20L.map%28%0A%20%20%20%20%20%20%20%20%27map_6e2e8b58af1248acba6f04ca1dc78d99%27%2C%20%7B%0A%20%20%20%20%20%20%20%20center%3A%20%5B-30.2%2C%20149.6%5D%2C%0A%20%20%20%20%20%20%20%20zoom%3A%2011%2C%0A%20%20%20%20%20%20%20%20maxBounds%3A%20bounds%2C%0A%20%20%20%20%20%20%20%20layers%3A%20%5B%5D%2C%0A%20%20%20%20%20%20%20%20worldCopyJump%3A%20false%2C%0A%20%20%20%20%20%20%20%20crs%3A%20L.CRS.EPSG3857%2C%0A%20%20%20%20%20%20%20%20zoomControl%3A%20true%2C%0A%20%20%20%20%20%20%20%20%7D%29%3B%0A%0A%0A%20%20%20%20%0A%20%20%20%20var%20tile_layer_fbd936d185ed4619a044f980679c3957%20%3D%20L.tileLayer%28%0A%20%20%20%20%20%20%20%20%27https%3A//%7Bs%7D.tile.openstreetmap.org/%7Bz%7D/%7Bx%7D/%7By%7D.png%27%2C%0A%20%20%20%20%20%20%20%20%7B%0A%20%20%20%20%20%20%20%20%22attribution%22%3A%20null%2C%0A%20%20%20%20%20%20%20%20%22detectRetina%22%3A%20false%2C%0A%20%20%20%20%20%20%20%20%22maxNativeZoom%22%3A%2018%2C%0A%20%20%20%20%20%20%20%20%22maxZoom%22%3A%2018%2C%0A%20%20%20%20%20%20%20%20%22minZoom%22%3A%200%2C%0A%20%20%20%20%20%20%20%20%22noWrap%22%3A%20false%2C%0A%20%20%20%20%20%20%20%20%22opacity%22%3A%201%2C%0A%20%20%20%20%20%20%20%20%22subdomains%22%3A%20%22abc%22%2C%0A%20%20%20%20%20%20%20%20%22tms%22%3A%20false%0A%7D%29.addTo%28map_6e2e8b58af1248acba6f04ca1dc78d99%29%3B%0A%20%20%20%20var%20tile_layer_5564f97529ab44bfb2b65af6244c9e13%20%3D%20L.tileLayer%28%0A%20%20%20%20%20%20%20%20%27https%3A//server.arcgisonline.com/ArcGIS/rest/services/World_Imagery/MapServer/tile/%7Bz%7D/%7By%7D/%7Bx%7D%27%2C%0A%20%20%20%20%20%20%20%20%7B%0A%20%20%20%20%20%20%20%20%22attribution%22%3A%20%22Map%20Data%20%26copy%3B%20%3Ca%20href%3D%5C%22https%3A//earthengine.google.com/%5C%22%3EGoogle%20Earth%20Engine%3C/a%3E%22%2C%0A%20%20%20%20%20%20%20%20%22detectRetina%22%3A%20false%2C%0A%20%20%20%20%20%20%20%20%22maxNativeZoom%22%3A%2018%2C%0A%20%20%20%20%20%20%20%20%22maxZoom%22%3A%2018%2C%0A%20%20%20%20%20%20%20%20%22minZoom%22%3A%200%2C%0A%20%20%20%20%20%20%20%20%22noWrap%22%3A%20false%2C%0A%20%20%20%20%20%20%20%20%22opacity%22%3A%201%2C%0A%20%20%20%20%20%20%20%20%22subdomains%22%3A%20%22abc%22%2C%0A%20%20%20%20%20%20%20%20%22tms%22%3A%20false%0A%7D%29.addTo%28map_6e2e8b58af1248acba6f04ca1dc78d99%29%3B%0A%20%20%20%20var%20tile_layer_9bed7f72e72c4509a3108f10531c2568%20%3D%20L.tileLayer%28%0A%20%20%20%20%20%20%20%20%27https%3A//earthengine.googleapis.com/v1alpha/projects/earthengine-legacy/maps/bb153804e50934069487037a39bb574f-c9030969ab61999a93ab32daf148140d/tiles/%7Bz%7D/%7Bx%7D/%7By%7D%27%2C%0A%20%20%20%20%20%20%20%20%7B%0A%20%20%20%20%20%20%20%20%22attribution%22%3A%20%22Map%20Data%20%26copy%3B%20%3Ca%20href%3D%5C%22https%3A//earthengine.google.com/%5C%22%3EGoogle%20Earth%20Engine%3C/a%3E%22%2C%0A%20%20%20%20%20%20%20%20%22detectRetina%22%3A%20false%2C%0A%20%20%20%20%20%20%20%20%22maxNativeZoom%22%3A%2018%2C%0A%20%20%20%20%20%20%20%20%22maxZoom%22%3A%2018%2C%0A%20%20%20%20%20%20%20%20%22minZoom%22%3A%200%2C%0A%20%20%20%20%20%20%20%20%22noWrap%22%3A%20false%2C%0A%20%20%20%20%20%20%20%20%22opacity%22%3A%201%2C%0A%20%20%20%20%20%20%20%20%22subdomains%22%3A%20%22abc%22%2C%0A%20%20%20%20%20%20%20%20%22tms%22%3A%20false%0A%7D%29.addTo%28map_6e2e8b58af1248acba6f04ca1dc78d99%29%3B%0A%20%20%20%20%0A%20%20%20%20%20%20%20%20%20%20%20%20var%20layer_control_773319c1b9864d20b590241b7c61f4ce%20%3D%20%7B%0A%20%20%20%20%20%20%20%20%20%20%20%20%20%20%20%20base_layers%20%3A%20%7B%20%22openstreetmap%22%20%3A%20tile_layer_fbd936d185ed4619a044f980679c3957%2C%20%7D%2C%0A%20%20%20%20%20%20%20%20%20%20%20%20%20%20%20%20overlays%20%3A%20%7B%20%22satellite%22%20%3A%20tile_layer_5564f97529ab44bfb2b65af6244c9e13%2C%22reservoirs%22%20%3A%20tile_layer_9bed7f72e72c4509a3108f10531c2568%2C%20%7D%0A%20%20%20%20%20%20%20%20%20%20%20%20%20%20%20%20%7D%3B%0A%20%20%20%20%20%20%20%20%20%20%20%20L.control.layers%28%0A%20%20%20%20%20%20%20%20%20%20%20%20%20%20%20%20layer_control_773319c1b9864d20b590241b7c61f4ce.base_layers%2C%0A%20%20%20%20%20%20%20%20%20%20%20%20%20%20%20%20layer_control_773319c1b9864d20b590241b7c61f4ce.overlays%2C%0A%20%20%20%20%20%20%20%20%20%20%20%20%20%20%20%20%7Bposition%3A%20%27topright%27%2C%0A%20%20%20%20%20%20%20%20%20%20%20%20%20%20%20%20%20collapsed%3A%20true%2C%0A%20%20%20%20%20%20%20%20%20%20%20%20%20%20%20%20%20autoZIndex%3A%20true%0A%20%20%20%20%20%20%20%20%20%20%20%20%20%20%20%20%7D%29.addTo%28map_6e2e8b58af1248acba6f04ca1dc78d99%29%3B%0A%20%20%20%20%20%20%20%20%20%20%20%20%0A%20%20%20%20%20%20%20%20%0A%3C/script%3E onload=\"this.contentDocument.open();this.contentDocument.write(    decodeURIComponent(this.getAttribute('data-html')));this.contentDocument.close();\" allowfullscreen webkitallowfullscreen mozallowfullscreen></iframe></div></div>"
            ],
            "text/plain": [
              "<folium.folium.Map at 0x7f2936bfb050>"
            ]
          },
          "metadata": {
            "tags": []
          },
          "execution_count": 14
        }
      ]
    },
    {
      "cell_type": "code",
      "metadata": {
        "id": "GTHXyu6vSYti"
      },
      "source": [
        "Bathy_reservoirs = ee.FeatureCollection('users/ignisfausto/contourReservoirs')"
      ],
      "execution_count": null,
      "outputs": []
    }
  ]
}